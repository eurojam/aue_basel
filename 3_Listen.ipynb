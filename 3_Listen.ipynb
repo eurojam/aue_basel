{
 "cells": [
  {
   "cell_type": "markdown",
   "metadata": {
    "raw_mimetype": "text/markdown",
    "slideshow": {
     "slide_type": "slide"
    }
   },
   "source": [
    "# Datenstrukturen: Listen"
   ]
  },
  {
   "cell_type": "markdown",
   "metadata": {},
   "source": [
    "Eine Liste ist eine geordnete Menge von Werten, wobei jeder Wert mit einem Index angesprochen wird. Die Werte, die die Liste bilden, werden ihre Elemente genannt. Listen haben Ähnlichkeiten mit Strings, die geordnete Mengen von Zeichen sind."
   ]
  },
  {
   "cell_type": "code",
   "execution_count": null,
   "metadata": {},
   "outputs": [],
   "source": [
    "# -*- coding: utf-8 -*-\n",
    "a = [66.25, 333, 333, 1, 1234.5] # eine Liste\n",
    "print(a.count(333), a.count(66.25), a.count('x')) #Anzahl Vorkommen eines Elements\n",
    "a.insert(2, -1) #Einfügen vor dem Index\n",
    "a.append(333) #Am Ende anfügen\n",
    "print (a)\n",
    "print (a.index(333)) #Index erstes Vorkommen\n",
    "a.remove(333) #Enfernt erstes Vorkommen\n",
    "print (a)\n",
    "a.reverse() #Umkehr der Liste (in place!)\n",
    "print (a)\n",
    "a.sort() #Sortieren (in place!)\n",
    "print (a)"
   ]
  },
  {
   "cell_type": "markdown",
   "metadata": {},
   "source": [
    "**List Comprehensions (Listen-Abstraktion)**\n",
    "ist eine elegante Methode Mengen in Python zu erzeugen"
   ]
  },
  {
   "cell_type": "code",
   "execution_count": null,
   "metadata": {},
   "outputs": [],
   "source": [
    "squares = []\n",
    "for x in range(10):\n",
    "    squares.append(x**2)\n",
    "print (squares)\n",
    "\n",
    "squares2 = [x**2 for x in range(10)] #List Comprehensions\n",
    "print (squares2)"
   ]
  },
  {
   "cell_type": "markdown",
   "metadata": {},
   "source": [
    "**Allgemeine Syntax von List Comprehensions**  \n",
    "Beispiel: new_range  = [i * i for i in range(5) if i % 2 == 0]  \n",
    "\n",
    "**Allg. Syntax:** *result*  = [*transform*    *iteration*         *filter*]"
   ]
  },
  {
   "cell_type": "code",
   "execution_count": null,
   "metadata": {},
   "outputs": [],
   "source": [
    "# alle Zahlenpaare, deren Summe 7 ist:\n",
    "[(x,y) for x in range(1,7) for y in range (1,7) if x+y==7]"
   ]
  },
  {
   "cell_type": "code",
   "execution_count": null,
   "metadata": {},
   "outputs": [],
   "source": [
    "# alle Zahlen, die durch 3 teilbar sind\n",
    "[x for x in range(1,40) if  x % 3 == 0]"
   ]
  }
 ],
 "metadata": {
  "kernelspec": {
   "display_name": "Python 3",
   "language": "python",
   "name": "python3"
  },
  "language_info": {
   "codemirror_mode": {
    "name": "ipython",
    "version": 3
   },
   "file_extension": ".py",
   "mimetype": "text/x-python",
   "name": "python",
   "nbconvert_exporter": "python",
   "pygments_lexer": "ipython3",
   "version": "3.7.9"
  }
 },
 "nbformat": 4,
 "nbformat_minor": 2
}
