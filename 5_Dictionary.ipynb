{
 "cells": [
  {
   "cell_type": "markdown",
   "metadata": {
    "raw_mimetype": "text/markdown",
    "slideshow": {
     "slide_type": "slide"
    }
   },
   "source": [
    "# Datenstrukturen: Dictionary"
   ]
  },
  {
   "cell_type": "markdown",
   "metadata": {},
   "source": [
    "Die zusammengesetzten Datentypen, die wir bisher behandelt haben **Strings, Listen, Mengen und Tupel** verwenden Ganzzahlen als Indizes. Der Datentyp Dictionary (deutscher Begriff: assoziative Liste) ist den anderen zusammengesetzten Datentypen ähnlich. Ein Unterschied besteht darin, dass man beliebige unveränderbare Datentypen für die Indizes verwenden kann. Als Beispiel werden wir ein Dictionary erzeugen um ein Telefonbuch abzubilden."
   ]
  },
  {
   "cell_type": "code",
   "execution_count": null,
   "metadata": {},
   "outputs": [],
   "source": [
    "# -*- coding: utf-8 -*-\n",
    "telefon = {'Hans': 4098, 'Michael': 4139}\n",
    "telefon['Guido'] = 4127\n",
    "print (telefon['Hans'])\n",
    "del telefon['Michael']\n",
    "telefon['Guido'] = 4199\n",
    "print (telefon)\n",
    "print (list(telefon.keys()))\n",
    "print (sorted(telefon.keys()))\n",
    "print ('Guido' in telefon)\n",
    "print ('Hans' not in telefon)"
   ]
  },
  {
   "cell_type": "code",
   "execution_count": null,
   "metadata": {
    "scrolled": true
   },
   "outputs": [],
   "source": [
    "#Was passiert hier wohl? \n",
    "telefon['Stefan']"
   ]
  },
  {
   "cell_type": "code",
   "execution_count": null,
   "metadata": {},
   "outputs": [],
   "source": [
    "#Zur Vermeidung dieses Fehlers kann get() verwendet werden:'\n",
    "telefon.get('Stefan', 'kein Eintrag vorhanden')"
   ]
  },
  {
   "cell_type": "markdown",
   "metadata": {},
   "source": [
    "Im folgenden sehen Sie weitere Möglichkeiten ein Dictionary zu erstellen:"
   ]
  },
  {
   "cell_type": "code",
   "execution_count": null,
   "metadata": {},
   "outputs": [],
   "source": [
    "#Erstellen mit dict-Konstruktor und Schlüssel-Wert-Paaren\n",
    "telefon = dict([('Hans', 4139), ('Guido', 4127), ('Michael', 4098)])\n",
    "print (telefon)"
   ]
  },
  {
   "cell_type": "code",
   "execution_count": null,
   "metadata": {},
   "outputs": [],
   "source": [
    "# Definition über Dict Comprehensions\n",
    "d = {chr(x): x**2 for x in (97, 98, 99)}\n",
    "print (d)"
   ]
  }
 ],
 "metadata": {
  "kernelspec": {
   "display_name": "Python 3",
   "language": "python",
   "name": "python3"
  },
  "language_info": {
   "codemirror_mode": {
    "name": "ipython",
    "version": 3
   },
   "file_extension": ".py",
   "mimetype": "text/x-python",
   "name": "python",
   "nbconvert_exporter": "python",
   "pygments_lexer": "ipython3",
   "version": "3.7.9"
  }
 },
 "nbformat": 4,
 "nbformat_minor": 2
}
